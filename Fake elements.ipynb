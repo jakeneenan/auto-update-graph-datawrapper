{
 "cells": [
  {
   "cell_type": "markdown",
   "metadata": {},
   "source": [
    "# Update script for fictional elements, fictional isotopes of real elements, and fictional subatomic particles"
   ]
  },
  {
   "cell_type": "code",
   "execution_count": 2,
   "metadata": {},
   "outputs": [],
   "source": [
    "url = 'https://en.wikipedia.org/wiki/List_of_fictional_elements,_materials,_isotopes_and_subatomic_particles'"
   ]
  },
  {
   "cell_type": "code",
   "execution_count": 11,
   "metadata": {},
   "outputs": [
    {
     "data": {
      "text/plain": [
       "6"
      ]
     },
     "execution_count": 11,
     "metadata": {},
     "output_type": "execute_result"
    }
   ],
   "source": [
    "import pandas as pd\n",
    "pd.options.display.max_columns = None\n",
    "pd.options.display.max_colwidth = None\n",
    "\n",
    "tables = pd.read_html(url)\n",
    "\n",
    "len(tables)"
   ]
  },
  {
   "cell_type": "code",
   "execution_count": null,
   "metadata": {},
   "outputs": [],
   "source": []
  },
  {
   "cell_type": "code",
   "execution_count": null,
   "metadata": {},
   "outputs": [],
   "source": []
  },
  {
   "cell_type": "markdown",
   "metadata": {},
   "source": [
    "# I lied to you. That's a lot of tables and I'm only picking the list of fictional elements and materials"
   ]
  },
  {
   "cell_type": "code",
   "execution_count": 4,
   "metadata": {},
   "outputs": [
    {
     "data": {
      "text/html": [
       "<div>\n",
       "<style scoped>\n",
       "    .dataframe tbody tr th:only-of-type {\n",
       "        vertical-align: middle;\n",
       "    }\n",
       "\n",
       "    .dataframe tbody tr th {\n",
       "        vertical-align: top;\n",
       "    }\n",
       "\n",
       "    .dataframe thead th {\n",
       "        text-align: right;\n",
       "    }\n",
       "</style>\n",
       "<table border=\"1\" class=\"dataframe\">\n",
       "  <thead>\n",
       "    <tr style=\"text-align: right;\">\n",
       "      <th></th>\n",
       "      <th>0</th>\n",
       "      <th>1</th>\n",
       "    </tr>\n",
       "  </thead>\n",
       "  <tbody>\n",
       "    <tr>\n",
       "      <th>0</th>\n",
       "      <td>NaN</td>\n",
       "      <td>This article has multiple issues. Please help ...</td>\n",
       "    </tr>\n",
       "    <tr>\n",
       "      <th>1</th>\n",
       "      <td>NaN</td>\n",
       "      <td>This article needs additional citations for ve...</td>\n",
       "    </tr>\n",
       "    <tr>\n",
       "      <th>2</th>\n",
       "      <td>NaN</td>\n",
       "      <td>This article may contain indiscriminate, exces...</td>\n",
       "    </tr>\n",
       "  </tbody>\n",
       "</table>\n",
       "</div>"
      ],
      "text/plain": [
       "    0                                                  1\n",
       "0 NaN  This article has multiple issues. Please help ...\n",
       "1 NaN  This article needs additional citations for ve...\n",
       "2 NaN  This article may contain indiscriminate, exces..."
      ]
     },
     "execution_count": 4,
     "metadata": {},
     "output_type": "execute_result"
    }
   ],
   "source": [
    "tables[0]"
   ]
  },
  {
   "cell_type": "code",
   "execution_count": 5,
   "metadata": {},
   "outputs": [
    {
     "data": {
      "text/html": [
       "<div>\n",
       "<style scoped>\n",
       "    .dataframe tbody tr th:only-of-type {\n",
       "        vertical-align: middle;\n",
       "    }\n",
       "\n",
       "    .dataframe tbody tr th {\n",
       "        vertical-align: top;\n",
       "    }\n",
       "\n",
       "    .dataframe thead th {\n",
       "        text-align: right;\n",
       "    }\n",
       "</style>\n",
       "<table border=\"1\" class=\"dataframe\">\n",
       "  <thead>\n",
       "    <tr style=\"text-align: right;\">\n",
       "      <th></th>\n",
       "      <th>0</th>\n",
       "      <th>1</th>\n",
       "    </tr>\n",
       "  </thead>\n",
       "  <tbody>\n",
       "    <tr>\n",
       "      <th>0</th>\n",
       "      <td>NaN</td>\n",
       "      <td>This article needs additional citations for ve...</td>\n",
       "    </tr>\n",
       "  </tbody>\n",
       "</table>\n",
       "</div>"
      ],
      "text/plain": [
       "    0                                                  1\n",
       "0 NaN  This article needs additional citations for ve..."
      ]
     },
     "execution_count": 5,
     "metadata": {},
     "output_type": "execute_result"
    }
   ],
   "source": [
    "tables[1]"
   ]
  },
  {
   "cell_type": "code",
   "execution_count": 6,
   "metadata": {},
   "outputs": [
    {
     "data": {
      "text/html": [
       "<div>\n",
       "<style scoped>\n",
       "    .dataframe tbody tr th:only-of-type {\n",
       "        vertical-align: middle;\n",
       "    }\n",
       "\n",
       "    .dataframe tbody tr th {\n",
       "        vertical-align: top;\n",
       "    }\n",
       "\n",
       "    .dataframe thead th {\n",
       "        text-align: right;\n",
       "    }\n",
       "</style>\n",
       "<table border=\"1\" class=\"dataframe\">\n",
       "  <thead>\n",
       "    <tr style=\"text-align: right;\">\n",
       "      <th></th>\n",
       "      <th>0</th>\n",
       "      <th>1</th>\n",
       "    </tr>\n",
       "  </thead>\n",
       "  <tbody>\n",
       "    <tr>\n",
       "      <th>0</th>\n",
       "      <td>NaN</td>\n",
       "      <td>This article may contain indiscriminate, exces...</td>\n",
       "    </tr>\n",
       "  </tbody>\n",
       "</table>\n",
       "</div>"
      ],
      "text/plain": [
       "    0                                                  1\n",
       "0 NaN  This article may contain indiscriminate, exces..."
      ]
     },
     "execution_count": 6,
     "metadata": {},
     "output_type": "execute_result"
    }
   ],
   "source": [
    "tables[2]"
   ]
  },
  {
   "cell_type": "code",
   "execution_count": 7,
   "metadata": {},
   "outputs": [
    {
     "data": {
      "text/html": [
       "<div>\n",
       "<style scoped>\n",
       "    .dataframe tbody tr th:only-of-type {\n",
       "        vertical-align: middle;\n",
       "    }\n",
       "\n",
       "    .dataframe tbody tr th {\n",
       "        vertical-align: top;\n",
       "    }\n",
       "\n",
       "    .dataframe thead th {\n",
       "        text-align: right;\n",
       "    }\n",
       "</style>\n",
       "<table border=\"1\" class=\"dataframe\">\n",
       "  <thead>\n",
       "    <tr style=\"text-align: right;\">\n",
       "      <th></th>\n",
       "      <th>Name</th>\n",
       "      <th>Source</th>\n",
       "      <th>Uses</th>\n",
       "    </tr>\n",
       "  </thead>\n",
       "  <tbody>\n",
       "    <tr>\n",
       "      <th>0</th>\n",
       "      <td>Adamant / Adamantine</td>\n",
       "      <td>Greek mythology</td>\n",
       "      <td>Adamant has long meant any impenetrably or uny...</td>\n",
       "    </tr>\n",
       "    <tr>\n",
       "      <th>1</th>\n",
       "      <td>Adamantite</td>\n",
       "      <td>Various</td>\n",
       "      <td>A metal ore in many fictional universes. In Fi...</td>\n",
       "    </tr>\n",
       "    <tr>\n",
       "      <th>2</th>\n",
       "      <td>Adamantium</td>\n",
       "      <td>Marvel Comics</td>\n",
       "      <td>Fictional alloy. First appears in Marvel's Ave...</td>\n",
       "    </tr>\n",
       "    <tr>\n",
       "      <th>3</th>\n",
       "      <td>Administratium</td>\n",
       "      <td>Scientific in-joke</td>\n",
       "      <td>First referenced in a 1989 issue of The Physic...</td>\n",
       "    </tr>\n",
       "    <tr>\n",
       "      <th>4</th>\n",
       "      <td>Administrontium</td>\n",
       "      <td>Scientific in-joke</td>\n",
       "      <td>Similar to Administratium and a variation of t...</td>\n",
       "    </tr>\n",
       "    <tr>\n",
       "      <th>...</th>\n",
       "      <td>...</td>\n",
       "      <td>...</td>\n",
       "      <td>...</td>\n",
       "    </tr>\n",
       "    <tr>\n",
       "      <th>125</th>\n",
       "      <td>Wishalloy</td>\n",
       "      <td>Aerospace term[88]</td>\n",
       "      <td>Alternative to unobtainium; may mean that said...</td>\n",
       "    </tr>\n",
       "    <tr>\n",
       "      <th>126</th>\n",
       "      <td>Xirang</td>\n",
       "      <td>Chinese mythology</td>\n",
       "      <td>Magic soil that can self-expand and continuall...</td>\n",
       "    </tr>\n",
       "    <tr>\n",
       "      <th>127</th>\n",
       "      <td>Xirdalium</td>\n",
       "      <td>The Chase of the Golden Meteor</td>\n",
       "      <td>Element which is, in the French first edition ...</td>\n",
       "    </tr>\n",
       "    <tr>\n",
       "      <th>128</th>\n",
       "      <td>Xithricite</td>\n",
       "      <td>Vendetta Online</td>\n",
       "      <td>A bright green mineral used to produce incredi...</td>\n",
       "    </tr>\n",
       "    <tr>\n",
       "      <th>129</th>\n",
       "      <td>Z-Crystals</td>\n",
       "      <td>Pokémon</td>\n",
       "      <td>Mysterious crystals to be held by Pokémon and ...</td>\n",
       "    </tr>\n",
       "  </tbody>\n",
       "</table>\n",
       "<p>130 rows × 3 columns</p>\n",
       "</div>"
      ],
      "text/plain": [
       "                     Name                          Source  \\\n",
       "0    Adamant / Adamantine                 Greek mythology   \n",
       "1              Adamantite                         Various   \n",
       "2              Adamantium                   Marvel Comics   \n",
       "3          Administratium              Scientific in-joke   \n",
       "4         Administrontium              Scientific in-joke   \n",
       "..                    ...                             ...   \n",
       "125             Wishalloy              Aerospace term[88]   \n",
       "126                Xirang               Chinese mythology   \n",
       "127             Xirdalium  The Chase of the Golden Meteor   \n",
       "128            Xithricite                 Vendetta Online   \n",
       "129            Z-Crystals                         Pokémon   \n",
       "\n",
       "                                                  Uses  \n",
       "0    Adamant has long meant any impenetrably or uny...  \n",
       "1    A metal ore in many fictional universes. In Fi...  \n",
       "2    Fictional alloy. First appears in Marvel's Ave...  \n",
       "3    First referenced in a 1989 issue of The Physic...  \n",
       "4    Similar to Administratium and a variation of t...  \n",
       "..                                                 ...  \n",
       "125  Alternative to unobtainium; may mean that said...  \n",
       "126  Magic soil that can self-expand and continuall...  \n",
       "127  Element which is, in the French first edition ...  \n",
       "128  A bright green mineral used to produce incredi...  \n",
       "129  Mysterious crystals to be held by Pokémon and ...  \n",
       "\n",
       "[130 rows x 3 columns]"
      ]
     },
     "execution_count": 7,
     "metadata": {},
     "output_type": "execute_result"
    }
   ],
   "source": [
    "tables[3]"
   ]
  },
  {
   "cell_type": "code",
   "execution_count": 12,
   "metadata": {},
   "outputs": [
    {
     "data": {
      "text/html": [
       "<div>\n",
       "<style scoped>\n",
       "    .dataframe tbody tr th:only-of-type {\n",
       "        vertical-align: middle;\n",
       "    }\n",
       "\n",
       "    .dataframe tbody tr th {\n",
       "        vertical-align: top;\n",
       "    }\n",
       "\n",
       "    .dataframe thead th {\n",
       "        text-align: right;\n",
       "    }\n",
       "</style>\n",
       "<table border=\"1\" class=\"dataframe\">\n",
       "  <thead>\n",
       "    <tr style=\"text-align: right;\">\n",
       "      <th></th>\n",
       "      <th>Name</th>\n",
       "      <th>Source</th>\n",
       "      <th>Uses</th>\n",
       "    </tr>\n",
       "  </thead>\n",
       "  <tbody>\n",
       "    <tr>\n",
       "      <th>0</th>\n",
       "      <td>Adamant / Adamantine</td>\n",
       "      <td>Greek mythology</td>\n",
       "      <td>Adamant has long meant any impenetrably or unyieldingly hard substance and, formerly, a legendary stone or mineral of impenetrable hardness and many other properties, often identified with diamond or lodestone.[1] The English word is both a noun and an adjective; from Latin adamans 'impregnable, diamondlike hardness; very firm/resolute position', from Greek adamastos 'untameable' (hence also the word diamond). Adamant or adamantine (suffix -ine 'of the nature of' or 'made of') occur in many works. In myth, Kronos uses an adamantine sickle to castrate his father Uranus; in Prometheus Bound, Prometheus is bound to rocks \"in adamantine bonds infrangible\";[2] in Virgil's Aeneid, columns of solid adamantine protect the gates of Tartarus; in Paradise Lost, adamant and adamantine are mentioned eight times to describe the gates of hell, Satan's shield, fallen angel's armor and Satan's chains. In fiction Adamant is referred to in the film Forbidden Planet (as \"adamantine steel\"); many books such as The Adventures of Tom Sawyer, The Faerie Queene, Gulliver's Travels, His Dark Materials, The Lord of the Rings, Mathilda (by Mary Shelley), and A Midsummer Night's Dream; and many games such as Dungeons &amp; Dragons, Final Fantasy and RuneScape. The word adamant is the basis for fictional materials such as Adamantium and Adamantite (see below), Adamantle in The Sims, and Adiamante in L. E. Modesitt Jr.'s 1996 novel of the same name.</td>\n",
       "    </tr>\n",
       "    <tr>\n",
       "      <th>1</th>\n",
       "      <td>Adamantite</td>\n",
       "      <td>Various</td>\n",
       "      <td>A metal ore in many fictional universes. In Final Fantasy it is used to make armor; its source is in another world; it can contain great amounts of energy. In World of Warcraft, it is a rare ore used to make weapons and armor of uncommon, rare and epic grade. In The Dark Elf Trilogy by R. A. Salvatore set in the Dungeons &amp; Dragons universe it is used to make drow weaponry. It is also used for armor in The Elder Scrolls III, and in the game Terraria it is a red ore used to produce armor and other items. The name is from the word adamant (see above), with suffix -ite for names of minerals.</td>\n",
       "    </tr>\n",
       "    <tr>\n",
       "      <th>2</th>\n",
       "      <td>Adamantium</td>\n",
       "      <td>Marvel Comics</td>\n",
       "      <td>Fictional alloy. First appears in Marvel's Avengers #66 (July 1969), by writer Roy Thomas and artists Barry Windsor-Smith and Syd Shores. First presented as part of the character Ultron's outer shell,[3] but best known as the substance bonded to the character Wolverine's skeleton and claws.[4][5][6] Adamantium's defining quality is its near-indestructibility. Adamantium is not depicted as a naturally occurring metal but as having been inadvertently invented by fictional American metallurgist Dr. Myron MacLain in trying to recreate his prior discovery, a unique alloy of steel and vibranium. Despite its potential uses in armament and armature, adamantium is rarely used due to high cost and inability to be reshaped. Other forms of adamantium of varying durability are mentioned in the Marvel Universe, including Secondary Adamantium, Adamantium Beta and Carbonadium.[7] Besides Ultron's outer shell and Wolverine's skeleton and claws, Adamantium is associated with a number of other characters and implements including but not limited to, Bullseye's spinal column, certain iterations of Captain America's shield[8] and Lady Deathstrike's skeleton and talons. Adamantium is also used in the Games Workshop universe of Warhammer 40000 and the MMORPG Maplestory.</td>\n",
       "    </tr>\n",
       "  </tbody>\n",
       "</table>\n",
       "</div>"
      ],
      "text/plain": [
       "                   Name           Source  \\\n",
       "0  Adamant / Adamantine  Greek mythology   \n",
       "1            Adamantite          Various   \n",
       "2            Adamantium    Marvel Comics   \n",
       "\n",
       "                                                                                                                                                                                                                                                                                                                                                                                                                                                                                                                                                                                                                                                                                                                                                                                                                                                                                                                                                                                                                                                                                                                                                                                                                                                                                                                                                                                                                                                                                             Uses  \n",
       "0  Adamant has long meant any impenetrably or unyieldingly hard substance and, formerly, a legendary stone or mineral of impenetrable hardness and many other properties, often identified with diamond or lodestone.[1] The English word is both a noun and an adjective; from Latin adamans 'impregnable, diamondlike hardness; very firm/resolute position', from Greek adamastos 'untameable' (hence also the word diamond). Adamant or adamantine (suffix -ine 'of the nature of' or 'made of') occur in many works. In myth, Kronos uses an adamantine sickle to castrate his father Uranus; in Prometheus Bound, Prometheus is bound to rocks \"in adamantine bonds infrangible\";[2] in Virgil's Aeneid, columns of solid adamantine protect the gates of Tartarus; in Paradise Lost, adamant and adamantine are mentioned eight times to describe the gates of hell, Satan's shield, fallen angel's armor and Satan's chains. In fiction Adamant is referred to in the film Forbidden Planet (as \"adamantine steel\"); many books such as The Adventures of Tom Sawyer, The Faerie Queene, Gulliver's Travels, His Dark Materials, The Lord of the Rings, Mathilda (by Mary Shelley), and A Midsummer Night's Dream; and many games such as Dungeons & Dragons, Final Fantasy and RuneScape. The word adamant is the basis for fictional materials such as Adamantium and Adamantite (see below), Adamantle in The Sims, and Adiamante in L. E. Modesitt Jr.'s 1996 novel of the same name.  \n",
       "1                                                                                                                                                                                                                                                                                                                                                                                                                                                                                                                                                                                                                                                                                                                                                                                                                                                                              A metal ore in many fictional universes. In Final Fantasy it is used to make armor; its source is in another world; it can contain great amounts of energy. In World of Warcraft, it is a rare ore used to make weapons and armor of uncommon, rare and epic grade. In The Dark Elf Trilogy by R. A. Salvatore set in the Dungeons & Dragons universe it is used to make drow weaponry. It is also used for armor in The Elder Scrolls III, and in the game Terraria it is a red ore used to produce armor and other items. The name is from the word adamant (see above), with suffix -ite for names of minerals.  \n",
       "2                                                                                                                                                                              Fictional alloy. First appears in Marvel's Avengers #66 (July 1969), by writer Roy Thomas and artists Barry Windsor-Smith and Syd Shores. First presented as part of the character Ultron's outer shell,[3] but best known as the substance bonded to the character Wolverine's skeleton and claws.[4][5][6] Adamantium's defining quality is its near-indestructibility. Adamantium is not depicted as a naturally occurring metal but as having been inadvertently invented by fictional American metallurgist Dr. Myron MacLain in trying to recreate his prior discovery, a unique alloy of steel and vibranium. Despite its potential uses in armament and armature, adamantium is rarely used due to high cost and inability to be reshaped. Other forms of adamantium of varying durability are mentioned in the Marvel Universe, including Secondary Adamantium, Adamantium Beta and Carbonadium.[7] Besides Ultron's outer shell and Wolverine's skeleton and claws, Adamantium is associated with a number of other characters and implements including but not limited to, Bullseye's spinal column, certain iterations of Captain America's shield[8] and Lady Deathstrike's skeleton and talons. Adamantium is also used in the Games Workshop universe of Warhammer 40000 and the MMORPG Maplestory.  "
      ]
     },
     "execution_count": 12,
     "metadata": {},
     "output_type": "execute_result"
    }
   ],
   "source": [
    "df = tables[3]\n",
    "df.head(3)"
   ]
  },
  {
   "cell_type": "code",
   "execution_count": 34,
   "metadata": {},
   "outputs": [
    {
     "data": {
      "text/plain": [
       "Marvel Comics                   5\n",
       "DC Comics                       4\n",
       "Star Trek                       4\n",
       "I Expect You To Die             4\n",
       "Various                         4\n",
       "Scientific in-joke              3\n",
       "Rick Riordan                    3\n",
       "Giants series                   3\n",
       "Mistborn                        2\n",
       "Ben 10                          2\n",
       "Team Fortress 2                 2\n",
       "Minecraft                       2\n",
       "Armageddon 2419 A.D.            2\n",
       "Bionicle                        2\n",
       "Magic: The Gathering            2\n",
       "E. E. Smith's SkyLark series    2\n",
       "Discworld                       2\n",
       "Name: Source, dtype: int64"
      ]
     },
     "execution_count": 34,
     "metadata": {},
     "output_type": "execute_result"
    }
   ],
   "source": [
    "df.Source.value_counts().head(17)"
   ]
  },
  {
   "cell_type": "code",
   "execution_count": 36,
   "metadata": {},
   "outputs": [],
   "source": [
    "updated_df = df.Source.value_counts().to_frame(name='count').reset_index()"
   ]
  },
  {
   "cell_type": "code",
   "execution_count": 37,
   "metadata": {},
   "outputs": [],
   "source": [
    "df.to_csv('fake_element_sources.csv', index=False)"
   ]
  },
  {
   "cell_type": "code",
   "execution_count": null,
   "metadata": {},
   "outputs": [],
   "source": []
  }
 ],
 "metadata": {
  "kernelspec": {
   "display_name": "Python 3.11.0rc2 64-bit ('3.11.0rc2')",
   "language": "python",
   "name": "python3"
  },
  "language_info": {
   "codemirror_mode": {
    "name": "ipython",
    "version": 3
   },
   "file_extension": ".py",
   "mimetype": "text/x-python",
   "name": "python",
   "nbconvert_exporter": "python",
   "pygments_lexer": "ipython3",
   "version": "3.11.0rc2"
  },
  "orig_nbformat": 4,
  "vscode": {
   "interpreter": {
    "hash": "fc3aa880ed2f6fc8e5407b309a4fe2d297610a21f18b59d0df2ee739a16bf0d5"
   }
  }
 },
 "nbformat": 4,
 "nbformat_minor": 2
}
